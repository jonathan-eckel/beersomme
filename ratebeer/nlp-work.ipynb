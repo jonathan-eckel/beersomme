{
 "metadata": {
  "name": "",
  "signature": "sha256:13e6b9453b9b5c9247e83be60597db987b9ba68e577a31b3bc2f8870f167e908"
 },
 "nbformat": 3,
 "nbformat_minor": 0,
 "worksheets": [
  {
   "cells": [
    {
     "cell_type": "code",
     "collapsed": false,
     "input": [
      "import json"
     ],
     "language": "python",
     "metadata": {},
     "outputs": [],
     "prompt_number": 154
    },
    {
     "cell_type": "code",
     "collapsed": false,
     "input": [
      "#with open(\"incomplete_beerdata.json\", \"r\") as f:\n",
      "with open(\"allbeerdata.json\", \"r\") as f:\n",
      "    data = json.load(f)\n",
      "with open(\"topbeers.json\", \"r\") as f:\n",
      "    datatop = json.load(f)"
     ],
     "language": "python",
     "metadata": {},
     "outputs": [],
     "prompt_number": 155
    },
    {
     "cell_type": "code",
     "collapsed": false,
     "input": [
      "results = data['results']\n",
      "results.keys()\n",
      "\n",
      "topresults = datatop['results']\n",
      "\n",
      "beerData = results['beer']\n",
      "beerData += topresults['beer'] #append to list\n",
      "\n",
      "beer = beerData[1]\n",
      "print beer.keys()\n",
      "beer['style']\n",
      "\n",
      "def mappy(beer):\n",
      "    x = {}\n",
      "    x['Style'] = beer['style']['text']\n",
      "    brewery = beer['brewery']['text']\n",
      "    if \"Brewed by\" in brewery:\n",
      "        brewery = brewery.split(\"Brewed by\")[1]\n",
      "    elif \"Formerly brewed at\" in brewery:\n",
      "        brewery = brewery.split(\"Formerly brewed at\")[1]\n",
      "    elif \"Brewed at\" in brewery:\n",
      "        brewery = brewery.split(\"Brewed at\")[0]\n",
      "    else:\n",
      "        print \"UH OH\"\n",
      "        print brewery\n",
      "    x['Brewery'] = brewery\n",
      "    beer.update(x)\n",
      "    del beer['brewery']\n",
      "    del beer['style']\n",
      "\n",
      "map(mappy, beerData)\n",
      "\n",
      "#ignore beerinfo for now\n",
      "#results['beerinfo']\n",
      "\n",
      "df_raw = pd.DataFrame(beerData)"
     ],
     "language": "python",
     "metadata": {},
     "outputs": [
      {
       "output_type": "stream",
       "stream": "stdout",
       "text": [
        "[u'style', u'description', u'name', u'brewery']\n"
       ]
      }
     ],
     "prompt_number": 156
    },
    {
     "cell_type": "code",
     "collapsed": false,
     "input": [
      "print df_raw.count()\n",
      "a = df_raw[df_raw['description'].notnull()]\n",
      "df = a[a['description'] != '']\n",
      "df = df[df.description.str.len() > 40]\n",
      "df = df.drop_duplicates()"
     ],
     "language": "python",
     "metadata": {},
     "outputs": [
      {
       "output_type": "stream",
       "stream": "stdout",
       "text": [
        "Brewery        9155\n",
        "Style          9155\n",
        "description    9153\n",
        "name           9155\n",
        "dtype: int64\n"
       ]
      }
     ],
     "prompt_number": 157
    },
    {
     "cell_type": "code",
     "collapsed": false,
     "input": [
      "df = df.sort(columns='Style')"
     ],
     "language": "python",
     "metadata": {},
     "outputs": [],
     "prompt_number": 158
    },
    {
     "cell_type": "markdown",
     "metadata": {},
     "source": [
      "## NLP Stuff"
     ]
    },
    {
     "cell_type": "code",
     "collapsed": false,
     "input": [
      "import nltk\n",
      "from nltk.corpus import stopwords\n",
      "from sklearn.feature_extraction.text import CountVectorizer\n",
      "from sklearn.feature_extraction.text import TfidfTransformer\n",
      "from sklearn.feature_extraction.text import TfidfVectorizer\n",
      "import scipy\n",
      "import collections\n",
      "import re"
     ],
     "language": "python",
     "metadata": {},
     "outputs": [],
     "prompt_number": 159
    },
    {
     "cell_type": "code",
     "collapsed": false,
     "input": [
      "#ipas = df[df['Style'] == 'India Pale Ale (IPA)']\n",
      "#ipas = df[df['Style'] == 'Amber Ale']\n",
      "#df = ipas\n",
      "corpus = df['description']\n",
      "\n",
      "remove_list = []\n",
      "\n",
      "for cor,i in zip(corpus, corpus.index):\n",
      "    if type(cor) != unicode:\n",
      "        print i,cor\n",
      "        remove_list.append(i)\n",
      "\n",
      "df = df.drop( remove_list)\n",
      "corpus = corpus.drop( remove_list)\n",
      "\n",
      "print \"END\"\n",
      "\n",
      "for cor,i in zip(corpus, corpus.index):\n",
      "    if type(cor) != unicode:\n",
      "        print i,cor\n",
      "        remove_list.append(i)\n",
      "\n",
      "\n",
      "#print corpus.values[-50:]"
     ],
     "language": "python",
     "metadata": {},
     "outputs": [
      {
       "output_type": "stream",
       "stream": "stdout",
       "text": [
        "END\n"
       ]
      }
     ],
     "prompt_number": 160
    },
    {
     "cell_type": "code",
     "collapsed": false,
     "input": [
      "\"\"\"\n",
      "import nltk\n",
      "import string\n",
      "\n",
      "from sklearn.feature_extraction.text import TfidfVectorizer\n",
      "#from nltk.stem.porter import PorterStemmer\n",
      "\n",
      "token_list = []\n",
      "#stemmer = PorterStemmer()\n",
      "\n",
      "def stem_tokens(tokens, stemmer):\n",
      "    stemmed = []\n",
      "    for item in tokens:\n",
      "        stemmed.append(stemmer.stem(item))\n",
      "    return stemmed\n",
      "\n",
      "def tokenize(text):\n",
      "    tokens = nltk.word_tokenize(text)\n",
      "    #stems = stem_tokens(tokens, stemmer)\n",
      "    return tokens #stems\n",
      "\n",
      "text = mycorpus[1000]\n",
      "lowers = text.lower()\n",
      "no_punctuation = lowers.translate(string.punctuation)\n",
      "token_list.append(no_punctuation)\n",
      "\n",
      "print token_list\n",
      "#this can take some time\n",
      "#tfidf = TfidfVectorizer(tokenizer=tokenize, stop_words='english')\n",
      "#tfs = tfidf.fit_transform(token_dict.values())\n",
      "\"\"\""
     ],
     "language": "python",
     "metadata": {},
     "outputs": [
      {
       "metadata": {},
       "output_type": "pyout",
       "prompt_number": 161,
       "text": [
        "\"\\nimport nltk\\nimport string\\n\\nfrom sklearn.feature_extraction.text import TfidfVectorizer\\n#from nltk.stem.porter import PorterStemmer\\n\\ntoken_list = []\\n#stemmer = PorterStemmer()\\n\\ndef stem_tokens(tokens, stemmer):\\n    stemmed = []\\n    for item in tokens:\\n        stemmed.append(stemmer.stem(item))\\n    return stemmed\\n\\ndef tokenize(text):\\n    tokens = nltk.word_tokenize(text)\\n    #stems = stem_tokens(tokens, stemmer)\\n    return tokens #stems\\n\\ntext = mycorpus[1000]\\nlowers = text.lower()\\nno_punctuation = lowers.translate(string.punctuation)\\ntoken_list.append(no_punctuation)\\n\\nprint token_list\\n#this can take some time\\n#tfidf = TfidfVectorizer(tokenizer=tokenize, stop_words='english')\\n#tfs = tfidf.fit_transform(token_dict.values())\\n\""
       ]
      }
     ],
     "prompt_number": 161
    },
    {
     "cell_type": "code",
     "collapsed": false,
     "input": [
      "def myDecode(myStr):\n",
      "    a = unicode(myStr).encode(\"UTF-8\")\n",
      "    a = a.decode(\"ASCII\", errors=\"ignore\")\n",
      "    return a.replace('\\n', \" \")"
     ],
     "language": "python",
     "metadata": {},
     "outputs": [],
     "prompt_number": 162
    },
    {
     "cell_type": "code",
     "collapsed": false,
     "input": [
      "mycorpus = map(myDecode, corpus.values)\n",
      "s = set(stopwords.words('english'))\n",
      "vectorizer = CountVectorizer(max_df=1)\n",
      "X = vectorizer.fit_transform(mycorpus)\n",
      "nomatchwords = vectorizer.get_feature_names()\n",
      "s = s.union(nomatchwords)\n",
      "#print s\n",
      "\n",
      "vectorizer = CountVectorizer(stop_words=s)\n",
      "X = vectorizer.fit_transform(mycorpus)\n",
      "keywords = vectorizer.get_feature_names()\n",
      "\n",
      "prog = re.compile(r\"[0-9]\")\n",
      "\n",
      "for key in keywords:\n",
      "    if prog.match(key):\n",
      "        s.add(key)\n",
      "    \n",
      "vectorizer = TfidfVectorizer(stop_words=s)\n",
      "X = vectorizer.fit_transform(mycorpus)\n",
      "\n",
      "keywords = vectorizer.get_feature_names()\n",
      "counts = X.sum(axis=0)\n",
      "counts = np.array(counts.T).squeeze()\n",
      "#print X.sum(1)\n",
      "wc = zip(keywords,counts)\n",
      "#wc = sorted(wc, key=lambda x: x[1])\n",
      "len(wc)"
     ],
     "language": "python",
     "metadata": {},
     "outputs": [
      {
       "metadata": {},
       "output_type": "pyout",
       "prompt_number": 163,
       "text": [
        "9090"
       ]
      }
     ],
     "prompt_number": 163
    },
    {
     "cell_type": "code",
     "collapsed": false,
     "input": [
      "\"\"\"\n",
      "mycorpus = map(myDecode, corpus.values)\n",
      "vectorizer = TfidfVectorizer(stop_words='english')\n",
      "X = vectorizer.fit_transform(mycorpus)\n",
      "keywords = vectorizer.get_feature_names()\n",
      "counts = X.sum(axis=0)\n",
      "counts = np.array(counts.T).squeeze()\n",
      "#print X.sum(1)\n",
      "wc = zip(keywords,counts)\n",
      "wc = sorted(wc, key=lambda x: x[1], reverse=True)\n",
      "print wc\n",
      "#print keywords\n",
      "#print mycorpus[3014]\n",
      "\"\"\""
     ],
     "language": "python",
     "metadata": {},
     "outputs": [
      {
       "metadata": {},
       "output_type": "pyout",
       "prompt_number": 164,
       "text": [
        "\"\\nmycorpus = map(myDecode, corpus.values)\\nvectorizer = TfidfVectorizer(stop_words='english')\\nX = vectorizer.fit_transform(mycorpus)\\nkeywords = vectorizer.get_feature_names()\\ncounts = X.sum(axis=0)\\ncounts = np.array(counts.T).squeeze()\\n#print X.sum(1)\\nwc = zip(keywords,counts)\\nwc = sorted(wc, key=lambda x: x[1], reverse=True)\\nprint wc\\n#print keywords\\n#print mycorpus[3014]\\n\""
       ]
      }
     ],
     "prompt_number": 164
    },
    {
     "cell_type": "code",
     "collapsed": false,
     "input": [
      "#stem\n",
      "from nltk.stem.porter import PorterStemmer\n",
      "from nltk.stem.snowball import SnowballStemmer\n",
      "from nltk.stem.regexp import RegexpStemmer\n",
      "#stemmer = PorterStemmer() #, ignore_stopwords=True)\n",
      "stemmer = SnowballStemmer(\"english\", ignore_stopwords=True)\n",
      "#stemmer = RegexpStemmer('ing$|ish$|py$|able$', min=4)\n",
      "stemmer.stem(\"tastes\")\n",
      "#stemmer.stem(\"hoppy\")    "
     ],
     "language": "python",
     "metadata": {},
     "outputs": [
      {
       "metadata": {},
       "output_type": "pyout",
       "prompt_number": 165,
       "text": [
        "u'tast'"
       ]
      }
     ],
     "prompt_number": 165
    },
    {
     "cell_type": "code",
     "collapsed": false,
     "input": [
      "from nltk.stem import WordNetLemmatizer\n",
      "wordnet_lemmatizer = WordNetLemmatizer()\n",
      "wordnet_lemmatizer.lemmatize('complemented')"
     ],
     "language": "python",
     "metadata": {},
     "outputs": [
      {
       "metadata": {},
       "output_type": "pyout",
       "prompt_number": 166,
       "text": [
        "'complemented'"
       ]
      }
     ],
     "prompt_number": 166
    },
    {
     "cell_type": "code",
     "collapsed": false,
     "input": [
      "from sklearn.metrics.pairwise import cosine_similarity"
     ],
     "language": "python",
     "metadata": {},
     "outputs": [],
     "prompt_number": 167
    },
    {
     "cell_type": "code",
     "collapsed": false,
     "input": [
      "cs = cosine_similarity(X)\n",
      "np.save(\"similarity\",cs)\n",
      "#py.pcolor(cs[:200,:200])\n",
      "#py.show()\n",
      "print cs.shape\n",
      "print len(corpus)"
     ],
     "language": "python",
     "metadata": {},
     "outputs": [
      {
       "output_type": "stream",
       "stream": "stdout",
       "text": [
        "(5768, 5768)\n",
        "5768\n"
       ]
      }
     ],
     "prompt_number": 168
    },
    {
     "cell_type": "code",
     "collapsed": false,
     "input": [
      "from matplotlib import pyplot as py\n",
      "import numpy as np"
     ],
     "language": "python",
     "metadata": {},
     "outputs": [],
     "prompt_number": 169
    },
    {
     "cell_type": "code",
     "collapsed": false,
     "input": [
      "#myName = \"Deschutes Black Butte Porter\"\n",
      "#myName = \"Oskar Blues Old Chub\"\n",
      "#myName = \"Dogfish Head 90 Minute Imperial IPA\"\n",
      "#myName = \"Lagunitas A Little Sumpin\"\n",
      "#myName = \"Victory HopDevil\"\n",
      "#myName = \"Against the Grain Rico Sauvin\"\n",
      "#myName = \"Prairie Artisan Ales Birra\"\n",
      "#myName = \"Pabst Blue Ribbon\"\n",
      "#myName = \"He'Brew Jewbelation\"\n",
      "myName = \"Bud Light\"\n",
      "print df[df['name'].str.contains(myName)]\n",
      "#print df.loc[6208].values\n",
      "#print df[df['name'] == 'Stone India Pale Ale (IPA)']\n",
      "a = df[df['name'] == myName]\n",
      "#print a.index\n",
      "ind = df.index.get_loc(a.index[0])\n",
      "print ind\n",
      "print a.description.values"
     ],
     "language": "python",
     "metadata": {},
     "outputs": [
      {
       "output_type": "stream",
       "stream": "stdout",
       "text": [
        "                    Brewery              Style  \\\n",
        "4348   Anheuser-Busch InBev  Fruit Beer/Radler   \n",
        "4349   Anheuser-Busch InBev  Fruit Beer/Radler   \n",
        "4350   Anheuser-Busch InBev  Fruit Beer/Radler   \n",
        "4351   Anheuser-Busch InBev  Fruit Beer/Radler   \n",
        "4352   Anheuser-Busch InBev  Fruit Beer/Radler   \n",
        "8265   Anheuser-Busch InBev         Pale Lager   \n",
        "4347   Anheuser-Busch InBev          Wheat Ale   \n",
        "\n",
        "                                            description  \\\n",
        "4348   Premium Light Beer with 100% Natural Lime Flavor   \n",
        "4349  Malt beverage with natural flavors, artificial...   \n",
        "4350  Margarita with a twist.\\nMalt beverage with na...   \n",
        "4351  The beer based margarita is now introduced wit...   \n",
        "4352  Margaritas, the classic summer cocktail, are g...   \n",
        "8265  Introduced nationally in 1982, Bud Light is br...   \n",
        "4347  A light beer brewed with coriander and citrus ...   \n",
        "\n",
        "                               name  \n",
        "4348                 Bud Light Lime  \n",
        "4349     Bud Light Lime Mang-o-Rita  \n",
        "4350    Bud Light Lime Raz-Ber-Rita  \n",
        "4351  Bud Light Lime Straw-Ber-Rita  \n",
        "4352          Bud Light Lime-a-Rita  \n",
        "8265                      Bud Light  \n",
        "4347         Bud Light Golden Wheat  \n",
        "4448\n",
        "[ u'Introduced nationally in 1982, Bud Light is brewed with a malt and hops ratio different from Budweiser for a distinctively crisp taste with fewer calories.']\n"
       ]
      }
     ],
     "prompt_number": 175
    },
    {
     "cell_type": "code",
     "collapsed": false,
     "input": [
      "#df = df.sort(\"Brewery\")\n",
      "df.to_pickle(\"beerDataFrame.pkl\")"
     ],
     "language": "python",
     "metadata": {},
     "outputs": [],
     "prompt_number": 171
    },
    {
     "cell_type": "code",
     "collapsed": false,
     "input": [
      "max(df.name.map(len))"
     ],
     "language": "python",
     "metadata": {},
     "outputs": [
      {
       "metadata": {},
       "output_type": "pyout",
       "prompt_number": 172,
       "text": [
        "80"
       ]
      }
     ],
     "prompt_number": 172
    },
    {
     "cell_type": "code",
     "collapsed": false,
     "input": [
      "import pymysql as mdb\n",
      "db = mdb.connect(user=\"jeckel\", passwd=\"data\", host=\"localhost\", db=\"beerdb\", charset='utf8')\n",
      "\n",
      "with db:\n",
      "   cur = db.cursor()\n",
      "   cur.execute(\"DROP TABLE IF EXISTS ratebeer\")\n",
      "   cur.execute(\"CREATE TABLE ratebeer(id INT PRIMARY KEY,name VARCHAR(80))\")\n",
      "   for i,n in zip(df.index, df.name):\n",
      "       cur.execute(\"INSERT INTO ratebeer(id, name) VALUES(%s, %s)\", [str(i),n])\n",
      "   db.commit()\n",
      "\n",
      "    "
     ],
     "language": "python",
     "metadata": {},
     "outputs": [],
     "prompt_number": 173
    },
    {
     "cell_type": "code",
     "collapsed": false,
     "input": [
      "similar = np.argsort(cs[ind,:])[::-1]\n",
      "print cs[ind, similar[:20]]\n",
      "\n",
      "\n",
      "df.loc[df.index[similar[:20]]]\n",
      "\n",
      "#u = X[ind,:].nonzero()\n",
      "#v = X[similar[-1],:].nonzero()\n",
      "#df.loc[1195]\n",
      "\n",
      "#np.sort()\n",
      "\n",
      "#cs[115,:]\n",
      "\n",
      "#sort"
     ],
     "language": "python",
     "metadata": {},
     "outputs": [
      {
       "output_type": "stream",
       "stream": "stdout",
       "text": [
        "[ 1.          0.24366913  0.24304826  0.22268433  0.21044627  0.20447326\n",
        "  0.20077597  0.19903322  0.18221534  0.17929379  0.1717236   0.17134976\n",
        "  0.15952619  0.15473308  0.14382864  0.14218792  0.14147375  0.13983663\n",
        "  0.13918584  0.13515009]\n"
       ]
      },
      {
       "html": [
        "<div style=\"max-height:1000px;max-width:1500px;overflow:auto;\">\n",
        "<table border=\"1\" class=\"dataframe\">\n",
        "  <thead>\n",
        "    <tr style=\"text-align: right;\">\n",
        "      <th></th>\n",
        "      <th>Brewery</th>\n",
        "      <th>Style</th>\n",
        "      <th>description</th>\n",
        "      <th>name</th>\n",
        "    </tr>\n",
        "  </thead>\n",
        "  <tbody>\n",
        "    <tr>\n",
        "      <th>8265</th>\n",
        "      <td>                              Anheuser-Busch InBev</td>\n",
        "      <td>           Pale Lager</td>\n",
        "      <td> Introduced nationally in 1982, Bud Light is br...</td>\n",
        "      <td>                        Bud Light</td>\n",
        "    </tr>\n",
        "    <tr>\n",
        "      <th>9075</th>\n",
        "      <td>                              Anheuser-Busch InBev</td>\n",
        "      <td>   Amber Lager/Vienna</td>\n",
        "      <td> With a blend of two-row caramel malt and four ...</td>\n",
        "      <td>            Budweiser Black Crown</td>\n",
        "    </tr>\n",
        "    <tr>\n",
        "      <th>8289</th>\n",
        "      <td>                                Heineken Nederland</td>\n",
        "      <td>           Pale Lager</td>\n",
        "      <td> A special light beer containing only 3.5% alco...</td>\n",
        "      <td>                     Amstel Light</td>\n",
        "    </tr>\n",
        "    <tr>\n",
        "      <th>8314</th>\n",
        "      <td>                              Anheuser-Busch InBev</td>\n",
        "      <td>           Pale Lager</td>\n",
        "      <td> Introduced in 1994, Bud Ice is a smooth-tastin...</td>\n",
        "      <td>                          Bud Ice</td>\n",
        "    </tr>\n",
        "    <tr>\n",
        "      <th>8261</th>\n",
        "      <td>                              Anheuser-Busch InBev</td>\n",
        "      <td>           Pale Lager</td>\n",
        "      <td> Brewed and sold since 1876, \"The King of Beers...</td>\n",
        "      <td>                        Budweiser</td>\n",
        "    </tr>\n",
        "    <tr>\n",
        "      <th>8290</th>\n",
        "      <td>                              Anheuser-Busch InBev</td>\n",
        "      <td>           Pale Lager</td>\n",
        "      <td> Natural Light is brewed with a blend of premiu...</td>\n",
        "      <td>                    Natural Light</td>\n",
        "    </tr>\n",
        "    <tr>\n",
        "      <th>8353</th>\n",
        "      <td>                                Heineken Nederland</td>\n",
        "      <td>           Pale Lager</td>\n",
        "      <td> Brewed in the same high quality tradition as t...</td>\n",
        "      <td>           Heineken Premium Light</td>\n",
        "    </tr>\n",
        "    <tr>\n",
        "      <th>4042</th>\n",
        "      <td>                       New Holland Brewing Company</td>\n",
        "      <td>  American Strong Ale</td>\n",
        "      <td> The ratio Phi was discovered by ancient schola...</td>\n",
        "      <td>                  New Holland Phi</td>\n",
        "    </tr>\n",
        "    <tr>\n",
        "      <th>3321</th>\n",
        "      <td>                               Boston Beer Company</td>\n",
        "      <td>        Premium Lager</td>\n",
        "      <td> It took 2 years of brewing, tasting and testin...</td>\n",
        "      <td>                  Sam Adams Light</td>\n",
        "    </tr>\n",
        "    <tr>\n",
        "      <th>8299</th>\n",
        "      <td>               Coors Brewing Company (MillerCoors)</td>\n",
        "      <td>           Pale Lager</td>\n",
        "      <td> Introduced in 1989, Keystone Light is a refres...</td>\n",
        "      <td>                   Keystone Light</td>\n",
        "    </tr>\n",
        "    <tr>\n",
        "      <th>8266</th>\n",
        "      <td>               Coors Brewing Company (MillerCoors)</td>\n",
        "      <td>           Pale Lager</td>\n",
        "      <td> A premium light beer with 105 calories per 12-...</td>\n",
        "      <td>                      Coors Light</td>\n",
        "    </tr>\n",
        "    <tr>\n",
        "      <th>8959</th>\n",
        "      <td>                                 Boon Rawd Brewery</td>\n",
        "      <td>        Premium Lager</td>\n",
        "      <td> A premium lager beer brewed from the finest in...</td>\n",
        "      <td>                           Singha</td>\n",
        "    </tr>\n",
        "    <tr>\n",
        "      <th>4352</th>\n",
        "      <td>                              Anheuser-Busch InBev</td>\n",
        "      <td>    Fruit Beer/Radler</td>\n",
        "      <td> Margaritas, the classic summer cocktail, are g...</td>\n",
        "      <td>            Bud Light Lime-a-Rita</td>\n",
        "    </tr>\n",
        "    <tr>\n",
        "      <th>1522</th>\n",
        "      <td>               Coors Brewing Company (MillerCoors)</td>\n",
        "      <td>          Low Alcohol</td>\n",
        "      <td> The responsible choice in a premium nonalcohol...</td>\n",
        "      <td>              Coors Non-Alcoholic</td>\n",
        "    </tr>\n",
        "    <tr>\n",
        "      <th>3081</th>\n",
        "      <td>                          Shipyard Brewing Company</td>\n",
        "      <td> Golden Ale/Blond Ale</td>\n",
        "      <td> Shipyard Light Beer is a crisp, dry, pleasing ...</td>\n",
        "      <td>                   Shipyard Light</td>\n",
        "    </tr>\n",
        "    <tr>\n",
        "      <th>7897</th>\n",
        "      <td>  Leinenkugel Brewing Company (Tenth &amp; Blake Be...</td>\n",
        "      <td>            Wheat Ale</td>\n",
        "      <td> Honey Weiss has a taste that's light, crisp an...</td>\n",
        "      <td>    Leinenkugels Honey Weiss Bier</td>\n",
        "    </tr>\n",
        "    <tr>\n",
        "      <th>7778</th>\n",
        "      <td>                        Central Waters Brewing Co.</td>\n",
        "      <td> India Pale Ale (IPA)</td>\n",
        "      <td> This is the brewery\u2019s newest beer, this Americ...</td>\n",
        "      <td> Central Waters Glacial Trail IPA</td>\n",
        "    </tr>\n",
        "    <tr>\n",
        "      <th>8321</th>\n",
        "      <td>                              Anheuser-Busch InBev</td>\n",
        "      <td>           Pale Lager</td>\n",
        "      <td> Introduced in 1978 as the country's first supe...</td>\n",
        "      <td>                   Michelob Light</td>\n",
        "    </tr>\n",
        "    <tr>\n",
        "      <th>8308</th>\n",
        "      <td>                              Anheuser-Busch InBev</td>\n",
        "      <td>           Pale Lager</td>\n",
        "      <td> American-style lager that is long brewed for a...</td>\n",
        "      <td>                 Budweiser Select</td>\n",
        "    </tr>\n",
        "    <tr>\n",
        "      <th>3881</th>\n",
        "      <td>                          Founders Brewing Company</td>\n",
        "      <td>               Porter</td>\n",
        "      <td> Founders Brewing Company is proud to be one of...</td>\n",
        "      <td>      Founders American Black Ale</td>\n",
        "    </tr>\n",
        "  </tbody>\n",
        "</table>\n",
        "</div>"
       ],
       "metadata": {},
       "output_type": "pyout",
       "prompt_number": 176,
       "text": [
        "                                                Brewery                 Style  \\\n",
        "8265                               Anheuser-Busch InBev            Pale Lager   \n",
        "9075                               Anheuser-Busch InBev    Amber Lager/Vienna   \n",
        "8289                                 Heineken Nederland            Pale Lager   \n",
        "8314                               Anheuser-Busch InBev            Pale Lager   \n",
        "8261                               Anheuser-Busch InBev            Pale Lager   \n",
        "8290                               Anheuser-Busch InBev            Pale Lager   \n",
        "8353                                 Heineken Nederland            Pale Lager   \n",
        "4042                        New Holland Brewing Company   American Strong Ale   \n",
        "3321                                Boston Beer Company         Premium Lager   \n",
        "8299                Coors Brewing Company (MillerCoors)            Pale Lager   \n",
        "8266                Coors Brewing Company (MillerCoors)            Pale Lager   \n",
        "8959                                  Boon Rawd Brewery         Premium Lager   \n",
        "4352                               Anheuser-Busch InBev     Fruit Beer/Radler   \n",
        "1522                Coors Brewing Company (MillerCoors)           Low Alcohol   \n",
        "3081                           Shipyard Brewing Company  Golden Ale/Blond Ale   \n",
        "7897   Leinenkugel Brewing Company (Tenth & Blake Be...             Wheat Ale   \n",
        "7778                         Central Waters Brewing Co.  India Pale Ale (IPA)   \n",
        "8321                               Anheuser-Busch InBev            Pale Lager   \n",
        "8308                               Anheuser-Busch InBev            Pale Lager   \n",
        "3881                           Founders Brewing Company                Porter   \n",
        "\n",
        "                                            description  \\\n",
        "8265  Introduced nationally in 1982, Bud Light is br...   \n",
        "9075  With a blend of two-row caramel malt and four ...   \n",
        "8289  A special light beer containing only 3.5% alco...   \n",
        "8314  Introduced in 1994, Bud Ice is a smooth-tastin...   \n",
        "8261  Brewed and sold since 1876, \"The King of Beers...   \n",
        "8290  Natural Light is brewed with a blend of premiu...   \n",
        "8353  Brewed in the same high quality tradition as t...   \n",
        "4042  The ratio Phi was discovered by ancient schola...   \n",
        "3321  It took 2 years of brewing, tasting and testin...   \n",
        "8299  Introduced in 1989, Keystone Light is a refres...   \n",
        "8266  A premium light beer with 105 calories per 12-...   \n",
        "8959  A premium lager beer brewed from the finest in...   \n",
        "4352  Margaritas, the classic summer cocktail, are g...   \n",
        "1522  The responsible choice in a premium nonalcohol...   \n",
        "3081  Shipyard Light Beer is a crisp, dry, pleasing ...   \n",
        "7897  Honey Weiss has a taste that's light, crisp an...   \n",
        "7778  This is the brewery\u2019s newest beer, this Americ...   \n",
        "8321  Introduced in 1978 as the country's first supe...   \n",
        "8308  American-style lager that is long brewed for a...   \n",
        "3881  Founders Brewing Company is proud to be one of...   \n",
        "\n",
        "                                  name  \n",
        "8265                         Bud Light  \n",
        "9075             Budweiser Black Crown  \n",
        "8289                      Amstel Light  \n",
        "8314                           Bud Ice  \n",
        "8261                         Budweiser  \n",
        "8290                     Natural Light  \n",
        "8353            Heineken Premium Light  \n",
        "4042                   New Holland Phi  \n",
        "3321                   Sam Adams Light  \n",
        "8299                    Keystone Light  \n",
        "8266                       Coors Light  \n",
        "8959                            Singha  \n",
        "4352             Bud Light Lime-a-Rita  \n",
        "1522               Coors Non-Alcoholic  \n",
        "3081                    Shipyard Light  \n",
        "7897     Leinenkugels Honey Weiss Bier  \n",
        "7778  Central Waters Glacial Trail IPA  \n",
        "8321                    Michelob Light  \n",
        "8308                  Budweiser Select  \n",
        "3881       Founders American Black Ale  "
       ]
      }
     ],
     "prompt_number": 176
    }
   ],
   "metadata": {}
  }
 ]
}
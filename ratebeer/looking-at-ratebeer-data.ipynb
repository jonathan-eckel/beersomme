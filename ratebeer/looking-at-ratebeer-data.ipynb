{
 "metadata": {
  "name": "",
  "signature": "sha256:114502637ae766348b7ced52024cf39f964c71e7d15b62ad0ca35a1bea6f2ba7"
 },
 "nbformat": 3,
 "nbformat_minor": 0,
 "worksheets": [
  {
   "cells": [
    {
     "cell_type": "code",
     "collapsed": false,
     "input": [
      "import json"
     ],
     "language": "python",
     "metadata": {},
     "outputs": [],
     "prompt_number": 117
    },
    {
     "cell_type": "code",
     "collapsed": false,
     "input": [
      "#with open(\"incomplete_beerdata.json\", \"r\") as f:\n",
      "with open(\"allbeerdata.json\", \"r\") as f:\n",
      "    data = json.load(f)"
     ],
     "language": "python",
     "metadata": {},
     "outputs": [],
     "prompt_number": 118
    },
    {
     "cell_type": "code",
     "collapsed": false,
     "input": [
      "data.keys()\n",
      "data['count']"
     ],
     "language": "python",
     "metadata": {},
     "outputs": [
      {
       "metadata": {},
       "output_type": "pyout",
       "prompt_number": 119,
       "text": [
        "74308"
       ]
      }
     ],
     "prompt_number": 119
    },
    {
     "cell_type": "code",
     "collapsed": false,
     "input": [
      "results = data['results']\n",
      "results.keys()\n",
      "\n",
      "beerData = results['beer']\n",
      "\n",
      "beer = beerData[1]\n",
      "print beer.keys()\n",
      "beer['style']\n",
      "\n",
      "def mappy(beer):\n",
      "    x = {}\n",
      "    x['Style'] = beer['style']['text']\n",
      "    brewery = beer['brewery']['text']\n",
      "    if \"Brewed by\" in brewery:\n",
      "        brewery = brewery.split(\"by\")[1]\n",
      "    elif \"Formerly brewed at\" in brewery:\n",
      "        brewery = brewery.split(\"at\")[1]\n",
      "    elif \"Brewed at\" in brewery:\n",
      "        brewery = brewery.split(\"Brewed at\")[0]\n",
      "    else:\n",
      "        print \"UH OH\"\n",
      "        print brewery\n",
      "    x['Brewery'] = brewery\n",
      "    beer.update(x)\n",
      "    del beer['brewery']\n",
      "    del beer['style']\n",
      "\n",
      "map(mappy, beerData)\n",
      "\n",
      "#ignore beerinfo for now\n",
      "#results['beerinfo']\n",
      "\n",
      "df_raw = pd.DataFrame(beerData)"
     ],
     "language": "python",
     "metadata": {},
     "outputs": [
      {
       "output_type": "stream",
       "stream": "stdout",
       "text": [
        "[u'style', u'description', u'name', u'brewery']\n"
       ]
      }
     ],
     "prompt_number": 120
    },
    {
     "cell_type": "code",
     "collapsed": false,
     "input": [
      "print df_raw.count()\n",
      "a = df_raw[df_raw['description'].notnull()]\n",
      "df = a[a['description'] != '']"
     ],
     "language": "python",
     "metadata": {},
     "outputs": [
      {
       "output_type": "stream",
       "stream": "stdout",
       "text": [
        "Brewery        8261\n",
        "Style          8261\n",
        "description    8259\n",
        "name           8261\n",
        "dtype: int64\n"
       ]
      }
     ],
     "prompt_number": 121
    },
    {
     "cell_type": "code",
     "collapsed": false,
     "input": [
      "df = df.sort(columns='Style')"
     ],
     "language": "python",
     "metadata": {},
     "outputs": [],
     "prompt_number": 122
    },
    {
     "cell_type": "markdown",
     "metadata": {},
     "source": [
      "## NLP Stuff"
     ]
    },
    {
     "cell_type": "code",
     "collapsed": false,
     "input": [
      "import nltk\n",
      "from nltk.corpus import stopwords\n",
      "from sklearn.feature_extraction.text import CountVectorizer\n",
      "import scipy"
     ],
     "language": "python",
     "metadata": {},
     "outputs": [],
     "prompt_number": 123
    },
    {
     "cell_type": "code",
     "collapsed": false,
     "input": [
      "grp = df.groupby('Style')\n",
      "s = grp.size()\n",
      "s.sort(ascending=False)\n",
      "print s"
     ],
     "language": "python",
     "metadata": {},
     "outputs": [
      {
       "output_type": "stream",
       "stream": "stdout",
       "text": [
        "Style\n",
        "India Pale Ale (IPA)       723\n",
        "Imperial Stout             496\n",
        "Imperial/Double IPA        418\n",
        "American Strong Ale        283\n",
        "Barley Wine                273\n",
        "Saison                     253\n",
        "Porter                     245\n",
        "Fruit Beer/Radler          225\n",
        "Amber Ale                  215\n",
        "Brown Ale                  186\n",
        "Wheat Ale                  131\n",
        "Sweet Stout                128\n",
        "Black IPA                  122\n",
        "Pilsener                   117\n",
        "Belgian White (Witbier)    114\n",
        "Golden Ale/Blond Ale       113\n",
        "Imperial/Strong Porter     106\n",
        "Oktoberfest/M\u00e4rzen         101\n",
        "Abbey Tripel                91\n",
        "German Hefeweizen           89\n",
        "Scotch Ale                  85\n",
        "Premium Bitter/ESB          84\n",
        "Specialty Grain             73\n",
        "Abt/Quadrupel               57\n",
        "K\u00f6lsch                      56\n",
        "English Pale Ale            54\n",
        "Old Ale                     52\n",
        "Heller Bock                 51\n",
        "Premium Lager               50\n",
        "Berliner Weisse             46\n",
        "Abbey Dubbel                45\n",
        "Irish Ale                   44\n",
        "Dry Stout                   44\n",
        "English Strong Ale          41\n",
        "Dortmunder/Helles           39\n",
        "Dunkler Bock                35\n",
        "Scottish Ale                31\n",
        "Altbier                     31\n",
        "Dunkelweizen                26\n",
        "Bi\u00e8re de Garde              25\n",
        "Mild Ale                    18\n",
        "Mead                        16\n",
        "Low Alcohol                  8\n",
        "Bitter                       7\n",
        "California Common            7\n",
        "German Kristallweizen        4\n",
        "Belgian Strong Ale           1\n",
        "American Pale Ale            1\n",
        "Pale Lager                   1\n",
        "Spice/Herb/Vegetable         1\n",
        "dtype: int64\n"
       ]
      }
     ],
     "prompt_number": 124
    },
    {
     "cell_type": "code",
     "collapsed": false,
     "input": [
      "#ipas = df[df['Style'] == 'India Pale Ale (IPA)']\n",
      "#df = ipas\n",
      "corpus = df['description']\n",
      "\n",
      "remove_list = []\n",
      "\n",
      "for cor,i in zip(corpus, corpus.index):\n",
      "    if type(cor) != unicode:\n",
      "        print i,cor\n",
      "        remove_list.append(i)\n",
      "\n",
      "df = df.drop( remove_list)\n",
      "corpus = corpus.drop( remove_list)\n",
      "\n",
      "print \"END\"\n",
      "\n",
      "for cor,i in zip(corpus, corpus.index):\n",
      "    if type(cor) != unicode:\n",
      "        print i,cor\n",
      "        remove_list.append(i)\n",
      "\n",
      "\n",
      "#print corpus.values[-50:]"
     ],
     "language": "python",
     "metadata": {},
     "outputs": [
      {
       "output_type": "stream",
       "stream": "stdout",
       "text": [
        "4335 {u'text': u'Brewed exclusively for the Bahama Breeze Caribbean style restaurant chain by the Specialty Brewing Group of Anheuser-Busch. Read the full story.', u'href': u'http://www.bahamabreeze.com/menus/beverage/beverage_aruba_red.asp'}\n",
        "3603 {u'text': u'', u'href': u''}\n",
        "972 {u'text': u'', u'href': u''}\n",
        "2038 {u'text': u'Known Vintages: Winter 2005\\nThe Winter Brew varies year-to-year. The back label should state what style it is, so make sure you rate the correct style!\\nDesigned by Old Dominion brewer Favio Garcia, this winter warmer is a big ale that is lushly hopped with Liberty, Cascade and Centennial hops. Whole leaf Cascade hops are added to the lauter tun. A delicious beer to toast the holiday season\\nThis is the 2005 version. The 2007 version is listed seperately as Dominion Winter Brew 2007 (IPA)', u'href': u'http://www.ratebeer.com/beer/dominion-winter-brew-ipa/53113/%22%22http://www.ratebeer.com/beer/dominion-winter-brew-2007-ipa/81728/'}\n",
        "3722 {u'text': u'Reformulated to become Hopmouth Double IPA.', u'href': u'http://www.ratebeer.com/beer/arcadia-hopmouth-double-ipa/53344/'}\n",
        "5919 {u'text': u'Who knows what inspired the ancients to build Stonehenge--or what inspired us to build Hop Henge in its likeness. But build it we did, out of wrapped bales of whole-flower hops out on the brewery lawn. Like the rest of the Bond Street Series, Hop Henge highlights the creativity and curiousity of our brewers. Bolder than its English ancestors, with huge hops and a bitter finish, this IPA is no wallflower.\\nNOTE: This is the original version. In 2007 it was bumped up to an IIPA. See that entry here.', u'href': u'http://www.ratebeer.com/beer/deschutes-hop-henge-imperial-ipa/68396/'}\n",
        "4378 {u'text': u'', u'href': u''}\n",
        "4370 {u'text': u'Wild Hop Lager is unique and distinctive. It is made one batch at a time. It does not use any genetically modified products, pesticides or commercial fertilizers. Wild Hop Lager is made from 100% organic barley malt, certified by the USDA and the organic organization Oregon tilth. For more visit www.wildhoplager.com.', u'href': u'http://www.wildhoplager.com'}\n",
        "6334 {u'text': u'This entry is for the bottled version of Saison Noire (which contained brettanomyces). Ratings for the brewpub/draft version should go HERE\\nThis Belgian-inspired dark saison has a rich, deep amber color and a wonderfully complex caramelized maltiness complimented by the funky, fruity and earthy character of our house saison yeast. Decadent but dry with some lingering funk and fruit.', u'href': u'http://www.ratebeer.com/beer/bullfrog-saison-noire-bottle/92587/%22http://www.ratebeer.com/beer/bullfrog-saison-noire-brewpub/102803/%22'}\n",
        "1516 {u'text': u'', u'href': u''}\n",
        "END\n"
       ]
      }
     ],
     "prompt_number": 125
    },
    {
     "cell_type": "code",
     "collapsed": false,
     "input": [
      "vectorizer = CountVectorizer(stop_words='english')\n",
      "X = vectorizer.fit_transform(corpus.values)\n",
      "#analyze = vectorizer.build_analyzer()\n",
      "#analyze(corpus.values)"
     ],
     "language": "python",
     "metadata": {},
     "outputs": [],
     "prompt_number": 126
    },
    {
     "cell_type": "code",
     "collapsed": false,
     "input": [
      "len(vectorizer.get_feature_names())"
     ],
     "language": "python",
     "metadata": {},
     "outputs": [
      {
       "metadata": {},
       "output_type": "pyout",
       "prompt_number": 127,
       "text": [
        "16736"
       ]
      }
     ],
     "prompt_number": 127
    },
    {
     "cell_type": "code",
     "collapsed": false,
     "input": [
      "from sklearn.metrics.pairwise import cosine_similarity"
     ],
     "language": "python",
     "metadata": {},
     "outputs": [],
     "prompt_number": 128
    },
    {
     "cell_type": "code",
     "collapsed": false,
     "input": [
      "cs = cosine_similarity(X)\n",
      "print cs.shape\n",
      "print len(corpus)"
     ],
     "language": "python",
     "metadata": {},
     "outputs": [
      {
       "output_type": "stream",
       "stream": "stdout",
       "text": [
        "(5452, 5452)\n",
        "5452\n"
       ]
      }
     ],
     "prompt_number": 129
    },
    {
     "cell_type": "code",
     "collapsed": false,
     "input": [
      "from matplotlib import pyplot as py\n",
      "import numpy as np"
     ],
     "language": "python",
     "metadata": {},
     "outputs": [],
     "prompt_number": 130
    },
    {
     "cell_type": "code",
     "collapsed": false,
     "input": [
      "print df[df['name'] == 'Stone India Pale Ale (IPA)']\n",
      "a = df[df['name'] == 'Stone India Pale Ale (IPA)']\n",
      "#print a.index\n",
      "ind = df.index.get_loc(a.index[0])\n",
      "#print df['name'][ind]"
     ],
     "language": "python",
     "metadata": {},
     "outputs": [
      {
       "output_type": "stream",
       "stream": "stdout",
       "text": [
        "                     Brewery                 Style  \\\n",
        "1195   Stone Brewing Company  India Pale Ale (IPA)   \n",
        "\n",
        "                                            description  \\\n",
        "1195  Look up \"hops\" in the dictionary and you\u2019ll se...   \n",
        "\n",
        "                            name  \n",
        "1195  Stone India Pale Ale (IPA)  \n"
       ]
      }
     ],
     "prompt_number": 131
    },
    {
     "cell_type": "code",
     "collapsed": false,
     "input": [
      "similar = np.argsort(cs[115,:])[::-1]\n",
      "\n",
      "df.loc[df.index[similar[:5]]]\n",
      "\n",
      "#df.loc[1195]\n",
      "\n",
      "#np.sort()\n",
      "\n",
      "#cs[115,:]\n",
      "\n",
      "#sort"
     ],
     "language": "python",
     "metadata": {},
     "outputs": [
      {
       "html": [
        "<div style=\"max-height:1000px;max-width:1500px;overflow:auto;\">\n",
        "<table border=\"1\" class=\"dataframe\">\n",
        "  <thead>\n",
        "    <tr style=\"text-align: right;\">\n",
        "      <th></th>\n",
        "      <th>Brewery</th>\n",
        "      <th>Style</th>\n",
        "      <th>description</th>\n",
        "      <th>name</th>\n",
        "    </tr>\n",
        "  </thead>\n",
        "  <tbody>\n",
        "    <tr>\n",
        "      <th>6544</th>\n",
        "      <td>              Tr\u00f6egs Brewing Company</td>\n",
        "      <td>        Abbey Tripel</td>\n",
        "      <td> Naked Elf takes a hard look at the less-is-mor...</td>\n",
        "      <td>                Tr\u00f6egs Naked Elf</td>\n",
        "    </tr>\n",
        "    <tr>\n",
        "      <th>6551</th>\n",
        "      <td>              Tr\u00f6egs Brewing Company</td>\n",
        "      <td>        Abbey Tripel</td>\n",
        "      <td> For the third scratch beer, we delved into our...</td>\n",
        "      <td>                Tr\u00f6egs Scratch 3</td>\n",
        "    </tr>\n",
        "    <tr>\n",
        "      <th>3714</th>\n",
        "      <td>  Arbor Brewing Company Pub &amp; Eatery</td>\n",
        "      <td>        Abbey Dubbel</td>\n",
        "      <td> Phat Abbot Belgian Dubbel\\nMalty, strong ale w...</td>\n",
        "      <td> Arbor Phat Abbot Belgian Dubbel</td>\n",
        "    </tr>\n",
        "    <tr>\n",
        "      <th>5062</th>\n",
        "      <td>           F.X. Matt Brewing Company</td>\n",
        "      <td>            Pilsener</td>\n",
        "      <td> Crisp, clean taste; look for the trademark hop...</td>\n",
        "      <td>         Saranac Golden Pilsener</td>\n",
        "    </tr>\n",
        "    <tr>\n",
        "      <th>944 </th>\n",
        "      <td>             Port Brewing/Lost Abbey</td>\n",
        "      <td> Imperial/Double IPA</td>\n",
        "      <td> A massively hopped strong pale ale brewed to c...</td>\n",
        "      <td>        Port Brewing Anniversary</td>\n",
        "    </tr>\n",
        "  </tbody>\n",
        "</table>\n",
        "</div>"
       ],
       "metadata": {},
       "output_type": "pyout",
       "prompt_number": 132,
       "text": [
        "                                  Brewery                Style  \\\n",
        "6544               Tr\u00f6egs Brewing Company         Abbey Tripel   \n",
        "6551               Tr\u00f6egs Brewing Company         Abbey Tripel   \n",
        "3714   Arbor Brewing Company Pub & Eatery         Abbey Dubbel   \n",
        "5062            F.X. Matt Brewing Company             Pilsener   \n",
        "944               Port Brewing/Lost Abbey  Imperial/Double IPA   \n",
        "\n",
        "                                            description  \\\n",
        "6544  Naked Elf takes a hard look at the less-is-mor...   \n",
        "6551  For the third scratch beer, we delved into our...   \n",
        "3714  Phat Abbot Belgian Dubbel\\nMalty, strong ale w...   \n",
        "5062  Crisp, clean taste; look for the trademark hop...   \n",
        "944   A massively hopped strong pale ale brewed to c...   \n",
        "\n",
        "                                 name  \n",
        "6544                 Tr\u00f6egs Naked Elf  \n",
        "6551                 Tr\u00f6egs Scratch 3  \n",
        "3714  Arbor Phat Abbot Belgian Dubbel  \n",
        "5062          Saranac Golden Pilsener  \n",
        "944          Port Brewing Anniversary  "
       ]
      }
     ],
     "prompt_number": 132
    }
   ],
   "metadata": {}
  }
 ]
}
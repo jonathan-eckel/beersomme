{
 "metadata": {
  "name": "",
  "signature": "sha256:baa4f24bf0dcc98c188bacb6afa8bd535487468ad4f2ab8fc3e8d7f1706c7021"
 },
 "nbformat": 3,
 "nbformat_minor": 0,
 "worksheets": [
  {
   "cells": [
    {
     "cell_type": "code",
     "collapsed": false,
     "input": [
      "import mypysql as mdb"
     ],
     "language": "python",
     "metadata": {},
     "outputs": []
    },
    {
     "cell_type": "code",
     "collapsed": false,
     "input": [
      "con = mdb.connect('localhost', 'jeckel', 'data', 'beerdb') #host, user, password, #database\n",
      "\n",
      "with con:\n",
      "    cur = con.cursor()\n",
      "    cur.execute(\"DROP TABLE IF EXISTS test\")\n",
      "    cur.execute(\"CREATE TABLE test(Id INT PRIMARY KEY AUTO_INCREMENT,Name VARCHAR(25))\")\n",
      "    cur.execute(\"INSERT INTO Writers(Name) VALUES('Jack London')\")\n",
      "    cur.execute(\"INSERT INTO Writers(Name) VALUES('Honore de Balzac')\")\n",
      "    cur.execute(\"INSERT INTO Writers(Name) VALUES('Lion Feuchtwanger')\")\n",
      "    cur.execute(\"INSERT INTO Writers(Name) VALUES('Emile Zola')\")\n",
      "    cur.execute(\"INSERT INTO Writers(Name) VALUES('Truman Capote')\")\n",
      "\n",
      "with con: \n",
      "    cur = con.cursor()\n",
      "    cur.execute(\"SELECT * FROM Writers\")\n",
      "    rows = cur.fetchall()\n",
      "    for row in rows:\n",
      "        print row\n"
     ],
     "language": "python",
     "metadata": {},
     "outputs": []
    }
   ],
   "metadata": {}
  }
 ]
}
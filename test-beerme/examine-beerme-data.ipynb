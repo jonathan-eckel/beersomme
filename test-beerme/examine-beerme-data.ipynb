{
 "metadata": {
  "name": "",
  "signature": "sha256:24a215de619db6eadeaa799ff35adef8e501d5da607771b1c11d1f68f77d73ee"
 },
 "nbformat": 3,
 "nbformat_minor": 0,
 "worksheets": [
  {
   "cells": [
    {
     "cell_type": "code",
     "collapsed": false,
     "input": [
      "import json\n",
      "import numpy as np\n",
      "import pandas as pd\n",
      "from matplotlib import pyplot as py"
     ],
     "language": "python",
     "metadata": {},
     "outputs": [],
     "prompt_number": 1
    },
    {
     "cell_type": "code",
     "collapsed": false,
     "input": [
      "with open(\"beerme_beers.json\", 'r') as f:\n",
      "    beers1 = json.load(f)\n",
      "with open(\"beerme_beers1400.json\", 'r') as f:\n",
      "    beers2 = json.load(f)\n",
      "beers = beers1 + beers2"
     ],
     "language": "python",
     "metadata": {},
     "outputs": [],
     "prompt_number": 3
    },
    {
     "cell_type": "code",
     "collapsed": false,
     "input": [
      "df = pd.DataFrame(beers)"
     ],
     "language": "python",
     "metadata": {},
     "outputs": [],
     "prompt_number": 132
    },
    {
     "cell_type": "code",
     "collapsed": false,
     "input": [
      "df[df[''].notnull()]\n",
      "df = df.drop([303, 531])\n",
      "del df['Huusbier']\n",
      "del df['']\n",
      "del df['Robust']\n",
      "df['name'] = df['name'].apply(lambda x: x[0])"
     ],
     "language": "python",
     "metadata": {},
     "outputs": [],
     "prompt_number": 133
    },
    {
     "cell_type": "code",
     "collapsed": false,
     "input": [
      "boo = df['style'].apply(lambda x: type(x) == list)\n",
      "df['style'] = df['style'][boo].apply(lambda x: x[0])"
     ],
     "language": "python",
     "metadata": {},
     "outputs": [],
     "prompt_number": 134
    },
    {
     "cell_type": "code",
     "collapsed": false,
     "input": [
      "df[df['brewery'].str.contains('Molson')]"
     ],
     "language": "python",
     "metadata": {},
     "outputs": [
      {
       "html": [
        "<div style=\"max-height:1000px;max-width:1500px;overflow:auto;\">\n",
        "<table border=\"1\" class=\"dataframe\">\n",
        "  <thead>\n",
        "    <tr style=\"text-align: right;\">\n",
        "      <th></th>\n",
        "      <th>Appearance</th>\n",
        "      <th>Aroma</th>\n",
        "      <th>Mouthfeel</th>\n",
        "      <th>OverallImpression</th>\n",
        "      <th>abv</th>\n",
        "      <th>brewery</th>\n",
        "      <th>name</th>\n",
        "      <th>style</th>\n",
        "    </tr>\n",
        "  </thead>\n",
        "  <tbody>\n",
        "    <tr>\n",
        "      <th>3235</th>\n",
        "      <td>                                   NaN</td>\n",
        "      <td>                      NaN</td>\n",
        "      <td>                                               NaN</td>\n",
        "      <td> [Golden, low, carbonation, and, head, Sweet, m...</td>\n",
        "      <td>  NaN</td>\n",
        "      <td> Molson Breweries of Canada</td>\n",
        "      <td>       Canadian Lager</td>\n",
        "      <td>         American-Style Lager</td>\n",
        "    </tr>\n",
        "    <tr>\n",
        "      <th>3236</th>\n",
        "      <td> [Bright, amber, Thick, dense, head, ]</td>\n",
        "      <td> [Grassy, grainy, malt, ]</td>\n",
        "      <td> [Light, medium, body, fizzy, Lots, of, grainy,...</td>\n",
        "      <td> [Abbey, Ale, brewed, with, a, hint, of, dark, ...</td>\n",
        "      <td> 5.60</td>\n",
        "      <td> Molson Breweries of Canada</td>\n",
        "      <td> Full Moon Winter Ale</td>\n",
        "      <td>      Other Belgian-Style Ale</td>\n",
        "    </tr>\n",
        "    <tr>\n",
        "      <th>3237</th>\n",
        "      <td>                                   NaN</td>\n",
        "      <td>                      NaN</td>\n",
        "      <td>                                               NaN</td>\n",
        "      <td> [Bright, pale, golden, moderate, head, Very, s...</td>\n",
        "      <td>  NaN</td>\n",
        "      <td> Molson Breweries of Canada</td>\n",
        "      <td>               Golden</td>\n",
        "      <td>         American-Style Lager</td>\n",
        "    </tr>\n",
        "    <tr>\n",
        "      <th>3238</th>\n",
        "      <td>                                   NaN</td>\n",
        "      <td>                      NaN</td>\n",
        "      <td>                                               NaN</td>\n",
        "      <td> [Golden, big, head, fizzy, Some, noble, hop, a...</td>\n",
        "      <td>  NaN</td>\n",
        "      <td> Molson Breweries of Canada</td>\n",
        "      <td>                  Ice</td>\n",
        "      <td>         American-Style Lager</td>\n",
        "    </tr>\n",
        "    <tr>\n",
        "      <th>3239</th>\n",
        "      <td>                                   NaN</td>\n",
        "      <td>                      NaN</td>\n",
        "      <td>                                               NaN</td>\n",
        "      <td> [Red, brown, low, carbonation, big, head, Some...</td>\n",
        "      <td> 5.00</td>\n",
        "      <td> Molson Breweries of Canada</td>\n",
        "      <td>             Red Jack</td>\n",
        "      <td> American-Style Amber/Red Ale</td>\n",
        "    </tr>\n",
        "  </tbody>\n",
        "</table>\n",
        "</div>"
       ],
       "metadata": {},
       "output_type": "pyout",
       "prompt_number": 172,
       "text": [
        "                                 Appearance                     Aroma  \\\n",
        "3235                                    NaN                       NaN   \n",
        "3236  [Bright, amber, Thick, dense, head, ]  [Grassy, grainy, malt, ]   \n",
        "3237                                    NaN                       NaN   \n",
        "3238                                    NaN                       NaN   \n",
        "3239                                    NaN                       NaN   \n",
        "\n",
        "                                              Mouthfeel  \\\n",
        "3235                                                NaN   \n",
        "3236  [Light, medium, body, fizzy, Lots, of, grainy,...   \n",
        "3237                                                NaN   \n",
        "3238                                                NaN   \n",
        "3239                                                NaN   \n",
        "\n",
        "                                      OverallImpression   abv  \\\n",
        "3235  [Golden, low, carbonation, and, head, Sweet, m...   NaN   \n",
        "3236  [Abbey, Ale, brewed, with, a, hint, of, dark, ...  5.60   \n",
        "3237  [Bright, pale, golden, moderate, head, Very, s...   NaN   \n",
        "3238  [Golden, big, head, fizzy, Some, noble, hop, a...   NaN   \n",
        "3239  [Red, brown, low, carbonation, big, head, Some...  5.00   \n",
        "\n",
        "                         brewery                  name  \\\n",
        "3235  Molson Breweries of Canada        Canadian Lager   \n",
        "3236  Molson Breweries of Canada  Full Moon Winter Ale   \n",
        "3237  Molson Breweries of Canada                Golden   \n",
        "3238  Molson Breweries of Canada                   Ice   \n",
        "3239  Molson Breweries of Canada              Red Jack   \n",
        "\n",
        "                             style  \n",
        "3235          American-Style Lager  \n",
        "3236       Other Belgian-Style Ale  \n",
        "3237          American-Style Lager  \n",
        "3238          American-Style Lager  \n",
        "3239  American-Style Amber/Red Ale  "
       ]
      }
     ],
     "prompt_number": 172
    },
    {
     "cell_type": "code",
     "collapsed": false,
     "input": [
      "grp = df.groupby('style')\n",
      "counts = grp['name'].count()\n",
      "counts"
     ],
     "language": "python",
     "metadata": {},
     "outputs": [
      {
       "metadata": {},
       "output_type": "pyout",
       "prompt_number": 135,
       "text": [
        "style\n",
        "(Special) Best Bitter                            95\n",
        "American Lager/Ale or Cream Ale                  40\n",
        "American-Belgo-Style Ale                          3\n",
        "American-Style \"Light\" Amber Lager                1\n",
        "American-Style (Extra Special) Strong Bitter      4\n",
        "American-Style Amber Lager                       19\n",
        "American-Style Amber/Red Ale                    374\n",
        "American-Style Black Ale                          5\n",
        "American-Style Brown Ale                         49\n",
        "American-Style Dark Lager                        19\n",
        "American-Style India Pale Ale                   331\n",
        "American-Style Lager                            179\n",
        "American-Style Light Lager                       10\n",
        "American-Style Malt Liquor                        5\n",
        "American-Style M\u00c3\u00a4rzen/Oktoberfest                3\n",
        "...\n",
        "South German-Style Weizenbock/Weissbock     26\n",
        "Specialty Beer                             149\n",
        "Specialty Cider / Perry                      2\n",
        "Specialty Honey Beer                        37\n",
        "Standard Cider / Perry                       9\n",
        "Strong Ale                                  12\n",
        "Sweet Stout                                 93\n",
        "Traditional German-Style Bock              109\n",
        "Traditional Mead                             1\n",
        "Traditional Strong Scotch Ale               48\n",
        "Vienna-Style Lager                          80\n",
        "Wood- and Barrel-Aged Sour Beer              2\n",
        "Wood- and Barrel-aged Beer                  19\n",
        "Wood- and Barrel-aged Dark Beer             16\n",
        "Wood- and Barrel-aged Strong Beer           55\n",
        "Name: name, Length: 124, dtype: int64"
       ]
      }
     ],
     "prompt_number": 135
    },
    {
     "cell_type": "code",
     "collapsed": false,
     "input": [
      "counts.sort(ascending=False)\n",
      "print counts.head(100)"
     ],
     "language": "python",
     "metadata": {},
     "outputs": [
      {
       "output_type": "stream",
       "stream": "stdout",
       "text": [
        "style\n",
        "American-Style Pale Ale                        516\n",
        "American-Style Amber/Red Ale                   374\n",
        "American-Style India Pale Ale                  331\n",
        "Robust Porter                                  260\n",
        "South German-Style Hefeweizen/Hefeweissbier    223\n",
        "Barley Wine-Style Ale                          206\n",
        "Classic Irish-Style Dry Stout                  197\n",
        "English-Style Brown Ale                        187\n",
        "American-Style Lager                           179\n",
        "Light American Wheat Beer with Yeast           169\n",
        "German-Style M\u00c3\u00a4rzen/Oktoberfest               162\n",
        "German-Style Pilsener                          161\n",
        "English-Style (Extra Special) Strong Bitter    159\n",
        "Golden or Blonde Ale                           152\n",
        "Specialty Beer                                 149\n",
        "...\n",
        "Strong Ale                             12\n",
        "English-Style Dark Mild Ale            11\n",
        "American-Style Light Lager             10\n",
        "Modern Strong Scotch Ale               10\n",
        "German-Style Eisbock                   10\n",
        "American-Style Premium Lager            9\n",
        "American-Style Strong Pale Ale          9\n",
        "Standard Cider / Perry                  9\n",
        "American-Style Stout                    8\n",
        "Dark American Wheat Beer with Yeast     8\n",
        "English-Style Summer Ale                7\n",
        "Other Belgian-Style Sour Ale            7\n",
        "Berliner-Style Weisse (Wheat)           7\n",
        "Non-Alcoholic (Beer) Malt Beverage      6\n",
        "Belgian-Style Lambic                    5\n",
        "Name: name, Length: 100, dtype: int64\n"
       ]
      }
     ],
     "prompt_number": 136
    }
   ],
   "metadata": {}
  }
 ]
}
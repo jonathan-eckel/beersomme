{
 "metadata": {
  "name": "",
  "signature": "sha256:2fed64f651bd58deb073c823d91ffebee4aeb7d22d30f7eda37189c18ec5b93e"
 },
 "nbformat": 3,
 "nbformat_minor": 0,
 "worksheets": [
  {
   "cells": [
    {
     "cell_type": "code",
     "collapsed": false,
     "input": [
      "import requests\n",
      "import json"
     ],
     "language": "python",
     "metadata": {},
     "outputs": [],
     "prompt_number": 26
    },
    {
     "cell_type": "code",
     "collapsed": false,
     "input": [
      "apiurl = \"https://api.untappd.com/v4\"\n",
      "clientId = \"BB7A0B2F82AD836734DAB078A468EC41E87C8498\"\n",
      "clientSecret = \"3AB6E7FBD8687B46ABE270B691C058A4C6F8F70B\""
     ],
     "language": "python",
     "metadata": {},
     "outputs": [],
     "prompt_number": 15
    },
    {
     "cell_type": "code",
     "collapsed": false,
     "input": [
      "pubfeed = \"/thepub/local\""
     ],
     "language": "python",
     "metadata": {},
     "outputs": [],
     "prompt_number": 4
    },
    {
     "cell_type": "code",
     "collapsed": false,
     "input": [
      "credentials = {'client_id':clientId, 'client_secret':clientSecret}\n",
      "payload = {'lat': 40.739627, 'lng': -73.988400}\n",
      "payload.update(credentials)\n",
      "\n",
      "#optional inputs\n",
      "#default values\n",
      "#'radius': 5 (max 25)\n",
      "#'limit': 25 (max 25)\n",
      "\n",
      "#'offset': 0\n",
      "# or possibly\n",
      "#max_id (int, optional) - The checkin ID that you want the results to start with\n",
      "#min_id (int, optional) - Returns only checkins that are newer than this value\n",
      "\n",
      "#'type': 'mg_norm' ?\n",
      "\n",
      "r = requests.get(apiurl+pubfeed, params=payload)\n",
      "#requests.get()"
     ],
     "language": "python",
     "metadata": {},
     "outputs": [],
     "prompt_number": 16
    },
    {
     "cell_type": "code",
     "collapsed": false,
     "input": [
      "ratelimit_remaining = r.headers['x-ratelimit-remaining']\n",
      "output= json.loads(r.content)\n",
      "print output.keys()\n",
      "resp = output['response']\n",
      "checkins = resp['checkins']['items']\n",
      "ncheckins = resp['checkins']['count']\n",
      "venue = checkins[0]['venue']\n",
      "print venue.keys()\n",
      "print venue\n",
      "venueid = venue['venue_id']"
     ],
     "language": "python",
     "metadata": {},
     "outputs": [
      {
       "output_type": "stream",
       "stream": "stdout",
       "text": [
        "[u'notifications', u'meta', u'response']\n",
        "[u'foursquare', u'venue_id', u'venue_icon', u'venue_name', u'public_venue', u'contact', u'location', u'parent_category_id', u'primary_category', u'categories']\n",
        "{u'foursquare': {u'foursquare_url': u'http://4sq.com/15Yayos', u'foursquare_id': u'52055f018bbd654312c850f9'}, u'venue_id': 1020609, u'venue_icon': {u'md': u'https://ss3.4sqi.net/img/categories_v2/food/coffeeshop_bg_88.png', u'sm': u'https://ss3.4sqi.net/img/categories_v2/food/coffeeshop_bg_64.png', u'lg': u'https://ss3.4sqi.net/img/categories_v2/food/coffeeshop_bg_88.png'}, u'venue_name': u'Wright Bros. Brew & Brew', u'public_venue': True, u'contact': {u'twitter': u'@thebrewandbrew', u'venue_url': u'http://thebrewandbrew.com'}, u'location': {u'venue_state': u'TX', u'venue_address': u'500 San Marcos St #105', u'venue_country': u'United States', u'lat': 30.2644, u'lng': -97.733, u'venue_city': u'Austin'}, u'parent_category_id': u'4d4b7105d754a06374d81259', u'primary_category': u'Food', u'categories': {u'count': 2, u'items': [{u'is_primary': True, u'category_id': u'4bf58dd8d48988d1e0931735', u'category_name': u'Coffee Shop'}, {u'is_primary': False, u'category_id': u'4bf58dd8d48988d11b941735', u'category_name': u'Pub'}]}}\n"
       ]
      }
     ],
     "prompt_number": 105
    },
    {
     "cell_type": "code",
     "collapsed": false,
     "input": [
      "venue['location'].items()"
     ],
     "language": "python",
     "metadata": {},
     "outputs": [
      {
       "metadata": {},
       "output_type": "pyout",
       "prompt_number": 101,
       "text": [
        "[(u'venue_state', u'NY'),\n",
        " (u'venue_address', u'637 10th Ave'),\n",
        " (u'venue_country', u'United States'),\n",
        " (u'lat', 40.7617),\n",
        " (u'lng', -73.9942),\n",
        " (u'venue_city', u'New York')]"
       ]
      }
     ],
     "prompt_number": 101
    },
    {
     "cell_type": "code",
     "collapsed": false,
     "input": [
      "venuefeed = \"/venue/checkins/\""
     ],
     "language": "python",
     "metadata": {},
     "outputs": [],
     "prompt_number": 63
    },
    {
     "cell_type": "code",
     "collapsed": false,
     "input": [
      "payload = {}\n",
      "payload.update(credentials)\n",
      "\n",
      "#VENUE_ID (int, required) - The Venue ID that you want to display checkins\n",
      "\n",
      "#max_id (int, optional) - The checkin ID that you want the results to start with\n",
      "#min_id (int, optional) - Returns only checkins that are newer than this value\n",
      "#limit (int, optional) - The number of results to return, max of 25, default is 25\n",
      "\n",
      "r = requests.get(apiurl+pubfeed+str(venueid), params=payload)"
     ],
     "language": "python",
     "metadata": {},
     "outputs": [],
     "prompt_number": 64
    },
    {
     "cell_type": "code",
     "collapsed": false,
     "input": [
      "r.headers"
     ],
     "language": "python",
     "metadata": {},
     "outputs": [
      {
       "metadata": {},
       "output_type": "pyout",
       "prompt_number": 66,
       "text": [
        "{'x-api-version': '4', 'x-ratelimit-remaining': '98', 'x-http-protocol': '80', 'transfer-encoding': 'chunked', 'keep-alive': 'timeout=5, max=95', 'server': 'Apache', 'connection': 'Keep-Alive', 'x-ratelimit-limit': '100', 'x-auth-type': 'key', 'date': 'Sun, 18 Jan 2015 23:15:59 GMT', 'access-control-allow-origin': '*', 'access-control-allow-headers': 'X-Untappd-App, Content-Type', 'content-type': 'application/json'}"
       ]
      }
     ],
     "prompt_number": 66
    },
    {
     "cell_type": "code",
     "collapsed": false,
     "input": [
      "output= json.loads(r.content)\n",
      "resp = output['response']\n",
      "checkins = resp['checkins']['items']\n",
      "ncheckins = resp['checkins']['count']\n",
      "check = checkins[0]\n",
      "print check.keys()\n",
      "beer = check['beer']\n",
      "brewery = check['brewery']\n",
      "print beer\n",
      "#for check in checkins:\n",
      "#    print check['brewery']['brewery_name'], check['beer']['beer_name']"
     ],
     "language": "python",
     "metadata": {},
     "outputs": [
      {
       "output_type": "stream",
       "stream": "stdout",
       "text": [
        "[u'checkin_comment', u'media', u'created_at', u'venue', u'checkin_id', u'comments', u'beer', u'user', u'rating_score', u'toasts', u'brewery', u'badges']\n",
        "{u'auth_rating': 0, u'wish_list': False, u'bid': 944867, u'beer_style': u'American IPA', u'beer_name': u'GreenHouse IPA January 2015', u'beer_active': 1, u'beer_abv': 7.4, u'beer_label': u'https://d1c8v1qci5en44.cloudfront.net/site/assets/images/temp/badge-beer-default.png'}\n"
       ]
      }
     ],
     "prompt_number": 91
    },
    {
     "cell_type": "code",
     "collapsed": false,
     "input": [
      "print brewery"
     ],
     "language": "python",
     "metadata": {},
     "outputs": [
      {
       "output_type": "stream",
       "stream": "stdout",
       "text": [
        "{u'brewery_id': 17860, u'brewery_active': 1, u'brewery_name': u'Hops & Grain', u'country_name': u'United States', u'contact': {u'url': u'http://www.hopsandgrain.com/', u'twitter': u'hopsandgrain', u'facebook': u'http://www.facebook.com/pages/Hops-and-Grain/190074009287', u'instagram': u'hopsandgrain'}, u'brewery_label': u'https://d1c8v1qci5en44.cloudfront.net/site/brewery_logos/brewery-HopsGrain_17860.jpeg', u'location': {u'brewery_city': u'Austin', u'brewery_state': u'TX', u'lng': -97.7126, u'lat': 30.2583}, u'brewery_slug': u'hops-grain'}\n"
       ]
      }
     ],
     "prompt_number": 103
    },
    {
     "cell_type": "code",
     "collapsed": false,
     "input": [
      "import datetime\n",
      "print check.keys()\n",
      "mytime = check['created_at']\n",
      "print mytime\n",
      "mydate = datetime.datetime.strptime(mytime, \"%a, %d %b %Y %X +0000\")\n",
      "mydate.strftime(\"%Y-%m-%d %X\")"
     ],
     "language": "python",
     "metadata": {},
     "outputs": [
      {
       "output_type": "stream",
       "stream": "stdout",
       "text": [
        "[u'checkin_comment', u'media', u'created_at', u'venue', u'checkin_id', u'comments', u'beer', u'user', u'rating_score', u'toasts', u'brewery', u'badges']\n",
        "Sun, 18 Jan 2015 23:15:56 +0000\n"
       ]
      },
      {
       "metadata": {},
       "output_type": "pyout",
       "prompt_number": 136,
       "text": [
        "'2015-01-18 23:15:56'"
       ]
      }
     ],
     "prompt_number": 136
    }
   ],
   "metadata": {}
  }
 ]
}
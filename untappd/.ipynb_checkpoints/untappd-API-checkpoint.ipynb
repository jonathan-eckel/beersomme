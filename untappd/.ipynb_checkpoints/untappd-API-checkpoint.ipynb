{
 "metadata": {
  "name": "",
  "signature": "sha256:17bc1b27103e1a4d8cdc7d80a4b9ac33a71c75f946220cc7c442dff32a7e7025"
 },
 "nbformat": 3,
 "nbformat_minor": 0,
 "worksheets": []
}
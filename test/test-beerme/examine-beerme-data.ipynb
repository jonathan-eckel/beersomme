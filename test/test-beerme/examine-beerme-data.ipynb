{
 "metadata": {
  "name": "",
  "signature": "sha256:32326551a9b39534d0a2d163f2dab52aadc6d7c75afc37516234b8b8036dcdb5"
 },
 "nbformat": 3,
 "nbformat_minor": 0,
 "worksheets": [
  {
   "cells": [
    {
     "cell_type": "code",
     "collapsed": false,
     "input": [
      "import collections\n",
      "import json\n",
      "import numpy as np\n",
      "import pandas as pd\n",
      "from matplotlib import pyplot as py\n",
      "\n",
      "import nltk\n",
      "from nltk.corpus import stopwords"
     ],
     "language": "python",
     "metadata": {},
     "outputs": [],
     "prompt_number": 34
    },
    {
     "cell_type": "code",
     "collapsed": false,
     "input": [
      "datadir = \"../data-beerme/\"\n",
      "with open(datadir+\"beerme_beers.json\", 'r') as f:\n",
      "    beers1 = json.load(f)\n",
      "with open(datadir+\"beerme_beers1400.json\", 'r') as f:\n",
      "    beers2 = json.load(f)\n",
      "beers = beers1 + beers2"
     ],
     "language": "python",
     "metadata": {},
     "outputs": [],
     "prompt_number": 35
    },
    {
     "cell_type": "code",
     "collapsed": false,
     "input": [
      "df = pd.DataFrame(beers)"
     ],
     "language": "python",
     "metadata": {},
     "outputs": [],
     "prompt_number": 36
    },
    {
     "cell_type": "code",
     "collapsed": false,
     "input": [
      "df[df[''].notnull()]\n",
      "df = df.drop([303, 531])\n",
      "del df['Huusbier']\n",
      "del df['']\n",
      "del df['Robust']\n",
      "df['name'] = df['name'].apply(lambda x: x[0])"
     ],
     "language": "python",
     "metadata": {},
     "outputs": [],
     "prompt_number": 37
    },
    {
     "cell_type": "code",
     "collapsed": false,
     "input": [
      "boo = df['style'].apply(lambda x: type(x) == list)\n",
      "df['style'] = df['style'][boo].apply(lambda x: x[0])"
     ],
     "language": "python",
     "metadata": {},
     "outputs": [],
     "prompt_number": 38
    },
    {
     "cell_type": "code",
     "collapsed": false,
     "input": [
      "df.columns"
     ],
     "language": "python",
     "metadata": {},
     "outputs": [
      {
       "metadata": {},
       "output_type": "pyout",
       "prompt_number": 78,
       "text": [
        "Index([u'Appearance', u'Aroma', u'Mouthfeel', u'OverallImpression', u'abv', u'brewery', u'name', u'style'], dtype='object')"
       ]
      }
     ],
     "prompt_number": 78
    },
    {
     "cell_type": "code",
     "collapsed": false,
     "input": [
      "appearanceCollection = collections.Counter()\n",
      "appearance = df[df.Appearance.notnull()].Appearance\n",
      "appearance = appearance.map(cleanDesc)\n",
      "for a in appearance:\n",
      "    appearanceCollection += collections.Counter(a)\n",
      "print appearanceCollection.most_common(50)"
     ],
     "language": "python",
     "metadata": {},
     "outputs": [
      {
       "output_type": "stream",
       "stream": "stdout",
       "text": [
        "[(u'', 3295), (u'head', 3265), (u'bright', 1290), (u'thick', 1103), (u'golden', 944), (u'dense', 930), (u'red', 866), (u'moderate', 748), (u'amber', 748), (u'brown', 573), (u'deep', 509), (u'hazy', 407), (u'black', 394), (u'big', 284), (u'low', 276), (u'yellow', 256), (u'opaque', 249), (u'dark', 236), (u'carbonation', 230), (u'haze', 229), (u'huge', 197), (u'high', 193), (u'massive', 143), (u'slight', 107), (u'foamy', 106), (u'pale', 95), (u'nice', 89), (u'fluffy', 75), (u'color', 74), (u'copper', 69), (u'translucent', 65), (u'yeast', 58), (u'good', 55), (u'lots', 44), (u'creamy', 39), (u'chunky', 37), (u'beige', 30), (u'garnet', 28), (u'almost', 28), (u'lived', 27), (u'short', 27), (u'white', 26), (u'flakes', 24), (u'tan', 22), (u'chunks', 21), (u'mahogany', 20), (u'gusher', 19), (u'tight', 19), (u'nearly', 18), (u'nitro', 18)]\n"
       ]
      }
     ],
     "prompt_number": 77
    },
    {
     "cell_type": "code",
     "collapsed": false,
     "input": [
      "def cleanDesc(descArray):\n",
      "    descArray = map(unicode.lower, descArray)\n",
      "    s = set(stopwords.words('english'))\n",
      "    keywords = filter(lambda w: not w in s, descArray)\n",
      "    return keywords"
     ],
     "language": "python",
     "metadata": {},
     "outputs": [],
     "prompt_number": 74
    },
    {
     "cell_type": "code",
     "collapsed": false,
     "input": [
      "print df[df['brewery'].str.contains('Stone')].loc[4782]['OverallImpression']"
     ],
     "language": "python",
     "metadata": {},
     "outputs": [
      {
       "output_type": "stream",
       "stream": "stdout",
       "text": [
        "[u'Rich', u'flavorful', u'reasonably', u'complex', u'beer', u'Thanks', u'to', u'Avery', u'for', u'the', u'bottle', u'', u'Deep', u'amber', u'thick', u'head', u'Huge', u'spicy', u'hop', u'aroma', u'Medium', u'light', u'body', u'very', u'bitter', u'The', u'bottled', u'version', u'was', u'more', u'intense', u'and', u'more', u'complex', u'', u'BeautifulArrogant', u'deep', u'ruby', u'red', u'low', u'carbonation', u'big', u'head', u'BigArrogant', u'citrus', u'hop', u'aroma', u'Spicy', u'fruityArrogant', u'bitterness', u'medium', u'big', u'body', u'huge', u'caramel', u'flavor', u'Very', u'nicearrogant', u'eternal', u'bitter', u'hoppy', u'finish', u'Plenty', u'of', u'alcoholarrogance', u'packed', u'into', u'a', u'three', u'liter', u'bottle', u'Thanks', u'to', u'Chuck', u'Farnham', u'for', u'sending', u'this', u'rarearrogant', u'treat', u'']\n"
       ]
      }
     ],
     "prompt_number": 33
    },
    {
     "cell_type": "code",
     "collapsed": false,
     "input": [
      "grp = df.groupby('style')\n",
      "counts = grp['name'].count()\n",
      "counts"
     ],
     "language": "python",
     "metadata": {},
     "outputs": [
      {
       "metadata": {},
       "output_type": "pyout",
       "prompt_number": 135,
       "text": [
        "style\n",
        "(Special) Best Bitter                            95\n",
        "American Lager/Ale or Cream Ale                  40\n",
        "American-Belgo-Style Ale                          3\n",
        "American-Style \"Light\" Amber Lager                1\n",
        "American-Style (Extra Special) Strong Bitter      4\n",
        "American-Style Amber Lager                       19\n",
        "American-Style Amber/Red Ale                    374\n",
        "American-Style Black Ale                          5\n",
        "American-Style Brown Ale                         49\n",
        "American-Style Dark Lager                        19\n",
        "American-Style India Pale Ale                   331\n",
        "American-Style Lager                            179\n",
        "American-Style Light Lager                       10\n",
        "American-Style Malt Liquor                        5\n",
        "American-Style M\u00c3\u00a4rzen/Oktoberfest                3\n",
        "...\n",
        "South German-Style Weizenbock/Weissbock     26\n",
        "Specialty Beer                             149\n",
        "Specialty Cider / Perry                      2\n",
        "Specialty Honey Beer                        37\n",
        "Standard Cider / Perry                       9\n",
        "Strong Ale                                  12\n",
        "Sweet Stout                                 93\n",
        "Traditional German-Style Bock              109\n",
        "Traditional Mead                             1\n",
        "Traditional Strong Scotch Ale               48\n",
        "Vienna-Style Lager                          80\n",
        "Wood- and Barrel-Aged Sour Beer              2\n",
        "Wood- and Barrel-aged Beer                  19\n",
        "Wood- and Barrel-aged Dark Beer             16\n",
        "Wood- and Barrel-aged Strong Beer           55\n",
        "Name: name, Length: 124, dtype: int64"
       ]
      }
     ],
     "prompt_number": 135
    },
    {
     "cell_type": "code",
     "collapsed": false,
     "input": [
      "counts.sort(ascending=False)\n",
      "print counts.head(100)"
     ],
     "language": "python",
     "metadata": {},
     "outputs": [
      {
       "output_type": "stream",
       "stream": "stdout",
       "text": [
        "style\n",
        "American-Style Pale Ale                        516\n",
        "American-Style Amber/Red Ale                   374\n",
        "American-Style India Pale Ale                  331\n",
        "Robust Porter                                  260\n",
        "South German-Style Hefeweizen/Hefeweissbier    223\n",
        "Barley Wine-Style Ale                          206\n",
        "Classic Irish-Style Dry Stout                  197\n",
        "English-Style Brown Ale                        187\n",
        "American-Style Lager                           179\n",
        "Light American Wheat Beer with Yeast           169\n",
        "German-Style M\u00c3\u00a4rzen/Oktoberfest               162\n",
        "German-Style Pilsener                          161\n",
        "English-Style (Extra Special) Strong Bitter    159\n",
        "Golden or Blonde Ale                           152\n",
        "Specialty Beer                                 149\n",
        "...\n",
        "Strong Ale                             12\n",
        "English-Style Dark Mild Ale            11\n",
        "American-Style Light Lager             10\n",
        "Modern Strong Scotch Ale               10\n",
        "German-Style Eisbock                   10\n",
        "American-Style Premium Lager            9\n",
        "American-Style Strong Pale Ale          9\n",
        "Standard Cider / Perry                  9\n",
        "American-Style Stout                    8\n",
        "Dark American Wheat Beer with Yeast     8\n",
        "English-Style Summer Ale                7\n",
        "Other Belgian-Style Sour Ale            7\n",
        "Berliner-Style Weisse (Wheat)           7\n",
        "Non-Alcoholic (Beer) Malt Beverage      6\n",
        "Belgian-Style Lambic                    5\n",
        "Name: name, Length: 100, dtype: int64\n"
       ]
      }
     ],
     "prompt_number": 136
    }
   ],
   "metadata": {}
  }
 ]
}
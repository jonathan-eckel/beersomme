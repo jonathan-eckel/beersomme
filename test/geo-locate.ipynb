{
 "metadata": {
  "name": "",
  "signature": "sha256:7853ebd558e5e93670bd172096cd9d037a37ba3a2253f8ebce563a0f5c3175fe"
 },
 "nbformat": 3,
 "nbformat_minor": 0,
 "worksheets": [
  {
   "cells": [
    {
     "cell_type": "code",
     "collapsed": false,
     "input": [
      "import geopy"
     ],
     "language": "python",
     "metadata": {},
     "outputs": [],
     "prompt_number": 1
    },
    {
     "cell_type": "code",
     "collapsed": false,
     "input": [
      "geocoder = geopy.geocoders.GoogleV3()"
     ],
     "language": "python",
     "metadata": {},
     "outputs": [],
     "prompt_number": 2
    },
    {
     "cell_type": "code",
     "collapsed": false,
     "input": [
      "loc = geocoder.geocode(\"2605 N Willow Ave, Tucson, AZ\")\n",
      "print {\"lat\": loc.latitude, \"lng\": loc.longitude}"
     ],
     "language": "python",
     "metadata": {},
     "outputs": [
      {
       "output_type": "stream",
       "stream": "stdout",
       "text": [
        "{'lat': 32.25528, 'lng': -110.939009}\n",
        "0.0\n"
       ]
      }
     ],
     "prompt_number": 10
    }
   ],
   "metadata": {}
  }
 ]
}